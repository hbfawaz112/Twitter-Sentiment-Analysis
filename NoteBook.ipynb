{
  "nbformat": 4,
  "nbformat_minor": 0,
  "metadata": {
    "colab": {
      "name": "Untitled0.ipynb",
      "provenance": [],
      "collapsed_sections": []
    },
    "kernelspec": {
      "name": "python3",
      "display_name": "Python 3"
    },
    "language_info": {
      "name": "python"
    }
  },
  "cells": [
    {
      "cell_type": "code",
      "metadata": {
        "id": "sq7xsTEJQikv"
      },
      "source": [
        "# Import libraries used \n",
        "import pandas as pd\n",
        "import numpy as np\n",
        "import matplotlib.pyplot as plt\n",
        "import seaborn as sns\n",
        "\n",
        "import tweepy\n",
        "from tweepy import OAuthHandler"
      ],
      "execution_count": 2,
      "outputs": []
    },
    {
      "cell_type": "code",
      "metadata": {
        "id": "W-kJ4IDxUdiM"
      },
      "source": [
        ""
      ],
      "execution_count": null,
      "outputs": []
    },
    {
      "cell_type": "code",
      "metadata": {
        "id": "cyRAJWjIRort"
      },
      "source": [
        "#Get from developers.twitter.com/App->Setting->keys&tokens\n",
        "#Just assign the credentials\n",
        "\n",
        "consumer_key = \"your key\"\n",
        "consumer_secret = \"your key\"\n",
        "access_token = \"your key\"\n",
        "access_token_secret = \"your key\"\n",
        "\n",
        "#authenticate the API.\n",
        "auth = tweepy.OAuthHandler( consumer_key , consumer_secret )\n",
        "auth.set_access_token( access_token , access_token_secret )\n",
        "api = tweepy.API(auth)"
      ],
      "execution_count": 3,
      "outputs": []
    },
    {
      "cell_type": "code",
      "metadata": {
        "colab": {
          "base_uri": "https://localhost:8080/"
        },
        "id": "Ltjd83qhSMYq",
        "outputId": "67af687b-243e-44ce-f761-3a4bb12761fd"
      },
      "source": [
        "\n",
        "# Lets create a Dataframe to store the extracted data.\n",
        "\n",
        "df = pd.DataFrame(columns=[\"Date\",\"User\",\"IsVerified\",\"Tweet\",\"Likes\",\"RT\",'User_location'])\n",
        "print(df)"
      ],
      "execution_count": 4,
      "outputs": [
        {
          "output_type": "stream",
          "name": "stdout",
          "text": [
            "Empty DataFrame\n",
            "Columns: [Date, User, IsVerified, Tweet, Likes, RT, User_location]\n",
            "Index: []\n"
          ]
        }
      ]
    },
    {
      "cell_type": "code",
      "metadata": {
        "id": "976JQbrkSZCd"
      },
      "source": [
        "# 4.Write a Function to extract tweets:\n",
        "\n",
        "# We will Use **tweepy.cursor()** because we want to extract a larger number of tweets i.e over 100,500 etc\n",
        "\n",
        "\n",
        "def get_tweets(Topic,Count):    \n",
        "    i=0\n",
        "    for tweet in tweepy.Cursor(api.search, q=Topic,count=100, lang=\"en\",exclude='retweets').items():\n",
        "        print(i, end='\\r')\n",
        "        df.loc[i,\"Date\"] = tweet.created_at\n",
        "        df.loc[i,\"User\"] = tweet.user.name\n",
        "        df.loc[i,\"IsVerified\"] = tweet.user.verified\n",
        "        df.loc[i,\"Tweet\"] = tweet.text\n",
        "        df.loc[i,\"Likes\"] = tweet.favorite_count\n",
        "        df.loc[i,\"RT\"] = tweet.retweet_count\n",
        "        df.loc[i,\"User_location\"] = tweet.user.location\n",
        "        #df.to_csv(\"TweetDataset.csv\",index=False)\n",
        "        df.to_excel('{}.xlsx'.format(\"TweetDataset\"),index=False)   ## Save as Excel\n",
        "        i=i+1\n",
        "        if i>Count:\n",
        "            break\n",
        "        else:\n",
        "            pass"
      ],
      "execution_count": 5,
      "outputs": []
    },
    {
      "cell_type": "code",
      "metadata": {
        "id": "X-4TYrI_SiGh"
      },
      "source": [
        "# Call the function to extract the data. pass the topic and filename you want the data to be stored in.\n",
        "Topic=[\"Datsa Science\"]\n",
        "get_tweets(Topic , Count=100)"
      ],
      "execution_count": 7,
      "outputs": []
    },
    {
      "cell_type": "code",
      "metadata": {
        "colab": {
          "base_uri": "https://localhost:8080/",
          "height": 299
        },
        "id": "0LEmrSp8Sl9h",
        "outputId": "81bba728-19b2-48db-d63a-eb4ec70423ae"
      },
      "source": [
        "df.head(8)"
      ],
      "execution_count": 8,
      "outputs": [
        {
          "output_type": "execute_result",
          "data": {
            "text/html": [
              "<div>\n",
              "<style scoped>\n",
              "    .dataframe tbody tr th:only-of-type {\n",
              "        vertical-align: middle;\n",
              "    }\n",
              "\n",
              "    .dataframe tbody tr th {\n",
              "        vertical-align: top;\n",
              "    }\n",
              "\n",
              "    .dataframe thead th {\n",
              "        text-align: right;\n",
              "    }\n",
              "</style>\n",
              "<table border=\"1\" class=\"dataframe\">\n",
              "  <thead>\n",
              "    <tr style=\"text-align: right;\">\n",
              "      <th></th>\n",
              "      <th>Date</th>\n",
              "      <th>User</th>\n",
              "      <th>IsVerified</th>\n",
              "      <th>Tweet</th>\n",
              "      <th>Likes</th>\n",
              "      <th>RT</th>\n",
              "      <th>User_location</th>\n",
              "    </tr>\n",
              "  </thead>\n",
              "  <tbody>\n",
              "    <tr>\n",
              "      <th>0</th>\n",
              "      <td>2021-11-03 00:11:54</td>\n",
              "      <td>Joe Herbert</td>\n",
              "      <td>False</td>\n",
              "      <td>@JPBGerald @ClaraBauler These are TOO. MUCH!!!...</td>\n",
              "      <td>0</td>\n",
              "      <td>0</td>\n",
              "      <td>Bay Area, CA</td>\n",
              "    </tr>\n",
              "    <tr>\n",
              "      <th>1</th>\n",
              "      <td>2021-11-03 00:11:51</td>\n",
              "      <td>Michael Cook (he/him)</td>\n",
              "      <td>False</td>\n",
              "      <td>@IAMRockwell I bought one last year but found ...</td>\n",
              "      <td>0</td>\n",
              "      <td>0</td>\n",
              "      <td></td>\n",
              "    </tr>\n",
              "    <tr>\n",
              "      <th>2</th>\n",
              "      <td>2021-11-03 00:11:47</td>\n",
              "      <td>Therefore I am.</td>\n",
              "      <td>False</td>\n",
              "      <td>This bit has been issued by a computer and is ...</td>\n",
              "      <td>0</td>\n",
              "      <td>0</td>\n",
              "      <td></td>\n",
              "    </tr>\n",
              "    <tr>\n",
              "      <th>3</th>\n",
              "      <td>2021-11-03 00:11:41</td>\n",
              "      <td>K. Mehrabian</td>\n",
              "      <td>False</td>\n",
              "      <td>I get the ranking. Not Worried.\\n\\nI don't lik...</td>\n",
              "      <td>0</td>\n",
              "      <td>0</td>\n",
              "      <td>Oklahoma City, OK</td>\n",
              "    </tr>\n",
              "    <tr>\n",
              "      <th>4</th>\n",
              "      <td>2021-11-03 00:11:41</td>\n",
              "      <td>👁お化けReyu👁</td>\n",
              "      <td>False</td>\n",
              "      <td>My computer isn’t working I’m ending myself</td>\n",
              "      <td>0</td>\n",
              "      <td>0</td>\n",
              "      <td>Ontario, CA</td>\n",
              "    </tr>\n",
              "    <tr>\n",
              "      <th>5</th>\n",
              "      <td>2021-11-03 00:11:41</td>\n",
              "      <td>Ron Baker</td>\n",
              "      <td>False</td>\n",
              "      <td>@PondSagg @Investorfok @TerryMcAuliffe Agreed,...</td>\n",
              "      <td>0</td>\n",
              "      <td>0</td>\n",
              "      <td>Michigan, USA</td>\n",
              "    </tr>\n",
              "    <tr>\n",
              "      <th>6</th>\n",
              "      <td>2021-11-03 00:11:34</td>\n",
              "      <td>Chareth Cutestory</td>\n",
              "      <td>False</td>\n",
              "      <td>@royceyoung @AJerBearAffair No way. At all. Lo...</td>\n",
              "      <td>0</td>\n",
              "      <td>0</td>\n",
              "      <td>Kansas City, MO</td>\n",
              "    </tr>\n",
              "    <tr>\n",
              "      <th>7</th>\n",
              "      <td>2021-11-03 00:11:29</td>\n",
              "      <td>kalia ✨</td>\n",
              "      <td>False</td>\n",
              "      <td>Today I learned how to make my computer read t...</td>\n",
              "      <td>0</td>\n",
              "      <td>0</td>\n",
              "      <td>occupied powatan land</td>\n",
              "    </tr>\n",
              "  </tbody>\n",
              "</table>\n",
              "</div>"
            ],
            "text/plain": [
              "                  Date                   User  ... RT           User_location\n",
              "0  2021-11-03 00:11:54            Joe Herbert  ...  0            Bay Area, CA\n",
              "1  2021-11-03 00:11:51  Michael Cook (he/him)  ...  0                        \n",
              "2  2021-11-03 00:11:47        Therefore I am.  ...  0                        \n",
              "3  2021-11-03 00:11:41           K. Mehrabian  ...  0       Oklahoma City, OK\n",
              "4  2021-11-03 00:11:41              👁お化けReyu👁  ...  0             Ontario, CA\n",
              "5  2021-11-03 00:11:41              Ron Baker  ...  0           Michigan, USA\n",
              "6  2021-11-03 00:11:34      Chareth Cutestory  ...  0         Kansas City, MO\n",
              "7  2021-11-03 00:11:29                kalia ✨  ...  0  occupied powatan land \n",
              "\n",
              "[8 rows x 7 columns]"
            ]
          },
          "metadata": {},
          "execution_count": 8
        }
      ]
    },
    {
      "cell_type": "code",
      "metadata": {
        "id": "j-JKUYS1S4jv"
      },
      "source": [
        "# Function to Clean the Tweet.\n",
        "\n",
        "import re\n",
        "def clean_tweet(tweet):\n",
        "    return ' '.join(re.sub('(@[A-Za-z0-9]+)|([^0-9A-Za-z \\t])|(\\w+:\\/\\/\\S+)|([RT])', ' ', str(tweet).lower()).split())"
      ],
      "execution_count": 9,
      "outputs": []
    },
    {
      "cell_type": "code",
      "metadata": {
        "id": "f6THD2e6S6rb"
      },
      "source": [
        "# Funciton to analyze Sentiment\n",
        "\n",
        "from textblob import TextBlob\n",
        "def analyze_sentiment(tweet):\n",
        "    analysis = TextBlob(tweet)\n",
        "    if analysis.sentiment.polarity > 0:\n",
        "        return 'Positive'\n",
        "    elif analysis.sentiment.polarity == 0:\n",
        "        return 'Neutral'\n",
        "    else:\n",
        "        return 'Negative'"
      ],
      "execution_count": 10,
      "outputs": []
    },
    {
      "cell_type": "code",
      "metadata": {
        "colab": {
          "base_uri": "https://localhost:8080/",
          "height": 205
        },
        "id": "NQ_IQbCTThJ7",
        "outputId": "0c53d886-4e10-4102-a19d-e43092c13e2a"
      },
      "source": [
        "df['clean_tweet'] = df['Tweet'].apply(lambda x : clean_tweet(x))\n",
        "df.head(5)"
      ],
      "execution_count": 11,
      "outputs": [
        {
          "output_type": "execute_result",
          "data": {
            "text/html": [
              "<div>\n",
              "<style scoped>\n",
              "    .dataframe tbody tr th:only-of-type {\n",
              "        vertical-align: middle;\n",
              "    }\n",
              "\n",
              "    .dataframe tbody tr th {\n",
              "        vertical-align: top;\n",
              "    }\n",
              "\n",
              "    .dataframe thead th {\n",
              "        text-align: right;\n",
              "    }\n",
              "</style>\n",
              "<table border=\"1\" class=\"dataframe\">\n",
              "  <thead>\n",
              "    <tr style=\"text-align: right;\">\n",
              "      <th></th>\n",
              "      <th>Date</th>\n",
              "      <th>User</th>\n",
              "      <th>IsVerified</th>\n",
              "      <th>Tweet</th>\n",
              "      <th>Likes</th>\n",
              "      <th>RT</th>\n",
              "      <th>User_location</th>\n",
              "      <th>clean_tweet</th>\n",
              "    </tr>\n",
              "  </thead>\n",
              "  <tbody>\n",
              "    <tr>\n",
              "      <th>0</th>\n",
              "      <td>2021-11-03 00:11:54</td>\n",
              "      <td>Joe Herbert</td>\n",
              "      <td>False</td>\n",
              "      <td>@JPBGerald @ClaraBauler These are TOO. MUCH!!!...</td>\n",
              "      <td>0</td>\n",
              "      <td>0</td>\n",
              "      <td>Bay Area, CA</td>\n",
              "      <td>these are too much bidet rachel dolezal audito...</td>\n",
              "    </tr>\n",
              "    <tr>\n",
              "      <th>1</th>\n",
              "      <td>2021-11-03 00:11:51</td>\n",
              "      <td>Michael Cook (he/him)</td>\n",
              "      <td>False</td>\n",
              "      <td>@IAMRockwell I bought one last year but found ...</td>\n",
              "      <td>0</td>\n",
              "      <td>0</td>\n",
              "      <td></td>\n",
              "      <td>i bought one last year but found i overheated ...</td>\n",
              "    </tr>\n",
              "    <tr>\n",
              "      <th>2</th>\n",
              "      <td>2021-11-03 00:11:47</td>\n",
              "      <td>Therefore I am.</td>\n",
              "      <td>False</td>\n",
              "      <td>This bit has been issued by a computer and is ...</td>\n",
              "      <td>0</td>\n",
              "      <td>0</td>\n",
              "      <td></td>\n",
              "      <td>this bit has been issued by a computer and is ...</td>\n",
              "    </tr>\n",
              "    <tr>\n",
              "      <th>3</th>\n",
              "      <td>2021-11-03 00:11:41</td>\n",
              "      <td>K. Mehrabian</td>\n",
              "      <td>False</td>\n",
              "      <td>I get the ranking. Not Worried.\\n\\nI don't lik...</td>\n",
              "      <td>0</td>\n",
              "      <td>0</td>\n",
              "      <td>Oklahoma City, OK</td>\n",
              "      <td>i get the ranking not worried i don t like the...</td>\n",
              "    </tr>\n",
              "    <tr>\n",
              "      <th>4</th>\n",
              "      <td>2021-11-03 00:11:41</td>\n",
              "      <td>👁お化けReyu👁</td>\n",
              "      <td>False</td>\n",
              "      <td>My computer isn’t working I’m ending myself</td>\n",
              "      <td>0</td>\n",
              "      <td>0</td>\n",
              "      <td>Ontario, CA</td>\n",
              "      <td>my computer isn t working i m ending myself</td>\n",
              "    </tr>\n",
              "  </tbody>\n",
              "</table>\n",
              "</div>"
            ],
            "text/plain": [
              "                  Date  ...                                        clean_tweet\n",
              "0  2021-11-03 00:11:54  ...  these are too much bidet rachel dolezal audito...\n",
              "1  2021-11-03 00:11:51  ...  i bought one last year but found i overheated ...\n",
              "2  2021-11-03 00:11:47  ...  this bit has been issued by a computer and is ...\n",
              "3  2021-11-03 00:11:41  ...  i get the ranking not worried i don t like the...\n",
              "4  2021-11-03 00:11:41  ...        my computer isn t working i m ending myself\n",
              "\n",
              "[5 rows x 8 columns]"
            ]
          },
          "metadata": {},
          "execution_count": 11
        }
      ]
    },
    {
      "cell_type": "code",
      "metadata": {
        "colab": {
          "base_uri": "https://localhost:8080/",
          "height": 205
        },
        "id": "ToBtpBlrTxQ1",
        "outputId": "1fcc6893-6065-4d30-c4b8-45ce53ceea70"
      },
      "source": [
        "\n",
        "df[\"Sentiment\"] = df[\"Tweet\"].apply(lambda x : analyze_sentiment(x))\n",
        "df.head(5)"
      ],
      "execution_count": 12,
      "outputs": [
        {
          "output_type": "execute_result",
          "data": {
            "text/html": [
              "<div>\n",
              "<style scoped>\n",
              "    .dataframe tbody tr th:only-of-type {\n",
              "        vertical-align: middle;\n",
              "    }\n",
              "\n",
              "    .dataframe tbody tr th {\n",
              "        vertical-align: top;\n",
              "    }\n",
              "\n",
              "    .dataframe thead th {\n",
              "        text-align: right;\n",
              "    }\n",
              "</style>\n",
              "<table border=\"1\" class=\"dataframe\">\n",
              "  <thead>\n",
              "    <tr style=\"text-align: right;\">\n",
              "      <th></th>\n",
              "      <th>Date</th>\n",
              "      <th>User</th>\n",
              "      <th>IsVerified</th>\n",
              "      <th>Tweet</th>\n",
              "      <th>Likes</th>\n",
              "      <th>RT</th>\n",
              "      <th>User_location</th>\n",
              "      <th>clean_tweet</th>\n",
              "      <th>Sentiment</th>\n",
              "    </tr>\n",
              "  </thead>\n",
              "  <tbody>\n",
              "    <tr>\n",
              "      <th>0</th>\n",
              "      <td>2021-11-03 00:11:54</td>\n",
              "      <td>Joe Herbert</td>\n",
              "      <td>False</td>\n",
              "      <td>@JPBGerald @ClaraBauler These are TOO. MUCH!!!...</td>\n",
              "      <td>0</td>\n",
              "      <td>0</td>\n",
              "      <td>Bay Area, CA</td>\n",
              "      <td>these are too much bidet rachel dolezal audito...</td>\n",
              "      <td>Positive</td>\n",
              "    </tr>\n",
              "    <tr>\n",
              "      <th>1</th>\n",
              "      <td>2021-11-03 00:11:51</td>\n",
              "      <td>Michael Cook (he/him)</td>\n",
              "      <td>False</td>\n",
              "      <td>@IAMRockwell I bought one last year but found ...</td>\n",
              "      <td>0</td>\n",
              "      <td>0</td>\n",
              "      <td></td>\n",
              "      <td>i bought one last year but found i overheated ...</td>\n",
              "      <td>Positive</td>\n",
              "    </tr>\n",
              "    <tr>\n",
              "      <th>2</th>\n",
              "      <td>2021-11-03 00:11:47</td>\n",
              "      <td>Therefore I am.</td>\n",
              "      <td>False</td>\n",
              "      <td>This bit has been issued by a computer and is ...</td>\n",
              "      <td>0</td>\n",
              "      <td>0</td>\n",
              "      <td></td>\n",
              "      <td>this bit has been issued by a computer and is ...</td>\n",
              "      <td>Negative</td>\n",
              "    </tr>\n",
              "    <tr>\n",
              "      <th>3</th>\n",
              "      <td>2021-11-03 00:11:41</td>\n",
              "      <td>K. Mehrabian</td>\n",
              "      <td>False</td>\n",
              "      <td>I get the ranking. Not Worried.\\n\\nI don't lik...</td>\n",
              "      <td>0</td>\n",
              "      <td>0</td>\n",
              "      <td>Oklahoma City, OK</td>\n",
              "      <td>i get the ranking not worried i don t like the...</td>\n",
              "      <td>Neutral</td>\n",
              "    </tr>\n",
              "    <tr>\n",
              "      <th>4</th>\n",
              "      <td>2021-11-03 00:11:41</td>\n",
              "      <td>👁お化けReyu👁</td>\n",
              "      <td>False</td>\n",
              "      <td>My computer isn’t working I’m ending myself</td>\n",
              "      <td>0</td>\n",
              "      <td>0</td>\n",
              "      <td>Ontario, CA</td>\n",
              "      <td>my computer isn t working i m ending myself</td>\n",
              "      <td>Neutral</td>\n",
              "    </tr>\n",
              "  </tbody>\n",
              "</table>\n",
              "</div>"
            ],
            "text/plain": [
              "                  Date  ... Sentiment\n",
              "0  2021-11-03 00:11:54  ...  Positive\n",
              "1  2021-11-03 00:11:51  ...  Positive\n",
              "2  2021-11-03 00:11:47  ...  Negative\n",
              "3  2021-11-03 00:11:41  ...   Neutral\n",
              "4  2021-11-03 00:11:41  ...   Neutral\n",
              "\n",
              "[5 rows x 9 columns]"
            ]
          },
          "metadata": {},
          "execution_count": 12
        }
      ]
    },
    {
      "cell_type": "code",
      "metadata": {
        "colab": {
          "base_uri": "https://localhost:8080/"
        },
        "id": "fQYIbAQsUPX-",
        "outputId": "38473aab-7261-4ea0-beca-2e32e147feab"
      },
      "source": [
        "# Overall Summary\n",
        "\n",
        "print(\"Total Tweets Extracted for Topic : {} are : {}\".format(Topic,len(df.Tweet)))\n",
        "print(\"Total Positive Tweets are : {}\".format(len(df[df[\"Sentiment\"]==\"Positive\"])))\n",
        "print(\"Total Negative Tweets are : {}\".format(len(df[df[\"Sentiment\"]==\"Negative\"])))\n",
        "print(\"Total Neutral Tweets are : {}\".format(len(df[df[\"Sentiment\"]==\"Neutral\"])))"
      ],
      "execution_count": 13,
      "outputs": [
        {
          "output_type": "stream",
          "name": "stdout",
          "text": [
            "Total Tweets Extracted for Topic : ['Datsa Science'] are : 101\n",
            "Total Positive Tweets are : 33\n",
            "Total Negative Tweets are : 25\n",
            "Total Neutral Tweets are : 43\n"
          ]
        }
      ]
    },
    {
      "cell_type": "code",
      "metadata": {
        "colab": {
          "base_uri": "https://localhost:8080/",
          "height": 369
        },
        "id": "-44AjLPBUUR7",
        "outputId": "916dd9aa-0310-47e0-aa45-d407fb5ea0cf"
      },
      "source": [
        "sns.countplot(df[\"Sentiment\"])\n",
        "plt.title(\"Summary of Counts for Total tweets\")"
      ],
      "execution_count": 14,
      "outputs": [
        {
          "output_type": "stream",
          "name": "stderr",
          "text": [
            "/usr/local/lib/python3.7/dist-packages/seaborn/_decorators.py:43: FutureWarning: Pass the following variable as a keyword arg: x. From version 0.12, the only valid positional argument will be `data`, and passing other arguments without an explicit keyword will result in an error or misinterpretation.\n",
            "  FutureWarning\n"
          ]
        },
        {
          "output_type": "execute_result",
          "data": {
            "text/plain": [
              "Text(0.5, 1.0, 'Summary of Counts for Total tweets')"
            ]
          },
          "metadata": {},
          "execution_count": 14
        },
        {
          "output_type": "display_data",
          "data": {
            "image/png": "[encoded data removed]",
            "text/plain": [
              "<Figure size 432x288 with 1 Axes>"
            ]
          },
          "metadata": {
            "needs_background": "light"
          }
        }
      ]
    },
    {
      "cell_type": "code",
      "metadata": {
        "colab": {
          "base_uri": "https://localhost:8080/",
          "height": 248
        },
        "id": "3qU4MzxoUhu6",
        "outputId": "8d1c8d38-f649-4a06-eb3a-6d5a230b3eb0"
      },
      "source": [
        "#Pie chart\n",
        "a=len(df[df[\"Sentiment\"]==\"Positive\"])\n",
        "b=len(df[df[\"Sentiment\"]==\"Negative\"])\n",
        "c=len(df[df[\"Sentiment\"]==\"Neutral\"])\n",
        "d=np.array([a,b,c])\n",
        "explode = (0.1, 0.0, 0.1)\n",
        "plt.pie(d,shadow=True,explode=explode,labels=[\"Positive\",\"Negative\",\"Neutral\"],autopct='%1.2f%%');"
      ],
      "execution_count": 15,
      "outputs": [
        {
          "output_type": "display_data",
          "data": {
            "image/png": "[encoded data removed]",
            "text/plain": [
              "<Figure size 432x288 with 1 Axes>"
            ]
          },
          "metadata": {}
        }
      ]
    },
    {
      "cell_type": "code",
      "metadata": {
        "colab": {
          "base_uri": "https://localhost:8080/",
          "height": 369
        },
        "id": "WhY1VPC1I5vA",
        "outputId": "a1414f4a-5f96-4712-9535-f5f09d5b160d"
      },
      "source": [
        "sns.countplot(df[\"Sentiment\"],hue=df.IsVerified)\n",
        "plt.title(\"Summary of Counts for Total tweets,Distributed by if the User has a verified Account or not\")"
      ],
      "execution_count": 16,
      "outputs": [
        {
          "output_type": "stream",
          "name": "stderr",
          "text": [
            "/usr/local/lib/python3.7/dist-packages/seaborn/_decorators.py:43: FutureWarning: Pass the following variable as a keyword arg: x. From version 0.12, the only valid positional argument will be `data`, and passing other arguments without an explicit keyword will result in an error or misinterpretation.\n",
            "  FutureWarning\n"
          ]
        },
        {
          "output_type": "execute_result",
          "data": {
            "text/plain": [
              "Text(0.5, 1.0, 'Summary of Counts for Total tweets,Distributed by if the User has a verified Account or not')"
            ]
          },
          "metadata": {},
          "execution_count": 16
        },
        {
          "output_type": "display_data",
          "data": {
            "image/png": "[encoded data removed]",
            "text/plain": [
              "<Figure size 432x288 with 1 Axes>"
            ]
          },
          "metadata": {
            "needs_background": "light"
          }
        }
      ]
    }
  ]
}
