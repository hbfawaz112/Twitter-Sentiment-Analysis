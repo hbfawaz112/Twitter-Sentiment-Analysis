{
  "nbformat": 4,
  "nbformat_minor": 0,
  "metadata": {
    "colab": {
      "name": "Untitled0.ipynb",
      "provenance": [],
      "collapsed_sections": []
    },
    "kernelspec": {
      "name": "python3",
      "display_name": "Python 3"
    },
    "language_info": {
      "name": "python"
    }
  },
  "cells": [
    {
      "cell_type": "code",
      "metadata": {
        "id": "sq7xsTEJQikv"
      },
      "source": [
        "# Import libraries used \n",
        "import pandas as pd\n",
        "import numpy as np\n",
        "import matplotlib.pyplot as plt\n",
        "import seaborn as sns\n",
        "\n",
        "import tweepy\n",
        "from tweepy import OAuthHandler"
      ],
      "execution_count": null,
      "outputs": []
    },
    {
      "cell_type": "code",
      "metadata": {
        "id": "W-kJ4IDxUdiM"
      },
      "source": [
        ""
      ],
      "execution_count": null,
      "outputs": []
    },
    {
      "cell_type": "code",
      "metadata": {
        "id": "cyRAJWjIRort"
      },
      "source": [
        "#Get from developers.twitter.com/App->Setting->keys&tokens\n",
        "#Just assign the credentials\n",
        "\n",
        "consumer_key = \"n6TdQ7qSpjJkMUjeOG0SDZUGW\"\n",
        "consumer_secret = \"PgBIu35oI3iVfeXbPNDJ7h63uqlYIFRQbO38F0HHXV4WYr8Z63\"\n",
        "access_token = \"2511047768-SRyZ0eCZiai5o1q8r49QXb8z8hcozMfqoq6lU0a\"\n",
        "access_token_secret = \"nB2GD6nmiho12JuwQt1yQx2Jy61W3TLs7FvvD4L99vitG\"\n",
        "\n",
        "#authenticate the API.\n",
        "auth = tweepy.OAuthHandler( consumer_key , consumer_secret )\n",
        "auth.set_access_token( access_token , access_token_secret )\n",
        "api = tweepy.API(auth)"
      ],
      "execution_count": null,
      "outputs": []
    },
    {
      "cell_type": "code",
      "metadata": {
        "colab": {
          "base_uri": "https://localhost:8080/"
        },
        "id": "Ltjd83qhSMYq",
        "outputId": "7036aa88-9e7a-4725-94b0-caa59ad42431"
      },
      "source": [
        "\n",
        "# Lets create a Dataframe to store the extracted data.\n",
        "\n",
        "df = pd.DataFrame(columns=[\"Date\",\"User\",\"IsVerified\",\"Tweet\",\"Likes\",\"RT\",'User_location'])\n",
        "print(df)"
      ],
      "execution_count": null,
      "outputs": [
        {
          "output_type": "stream",
          "name": "stdout",
          "text": [
            "Empty DataFrame\n",
            "Columns: [Date, User, IsVerified, Tweet, Likes, RT, User_location]\n",
            "Index: []\n"
          ]
        }
      ]
    },
    {
      "cell_type": "code",
      "metadata": {
        "id": "976JQbrkSZCd"
      },
      "source": [
        "# 4.Write a Function to extract tweets:\n",
        "\n",
        "# We will Use **tweepy.cursor()** because we want to extract a larger number of tweets i.e over 100,500 etc\n",
        "\n",
        "\n",
        "def get_tweets(Topic,Count):    \n",
        "    i=0\n",
        "    for tweet in tweepy.Cursor(api.search, q=Topic,count=100, lang=\"en\",exclude='retweets').items():\n",
        "        print(i, end='\\r')\n",
        "        df.loc[i,\"Date\"] = tweet.created_at\n",
        "        df.loc[i,\"User\"] = tweet.user.name\n",
        "        df.loc[i,\"IsVerified\"] = tweet.user.verified\n",
        "        df.loc[i,\"Tweet\"] = tweet.text\n",
        "        df.loc[i,\"Likes\"] = tweet.favorite_count\n",
        "        df.loc[i,\"RT\"] = tweet.retweet_count\n",
        "        df.loc[i,\"User_location\"] = tweet.user.location\n",
        "        #df.to_csv(\"TweetDataset.csv\",index=False)\n",
        "        df.to_excel('{}.xlsx'.format(\"TweetDataset\"),index=False)   ## Save as Excel\n",
        "        i=i+1\n",
        "        if i>Count:\n",
        "            break\n",
        "        else:\n",
        "            pass"
      ],
      "execution_count": null,
      "outputs": []
    },
    {
      "cell_type": "code",
      "metadata": {
        "colab": {
          "base_uri": "https://localhost:8080/"
        },
        "id": "X-4TYrI_SiGh",
        "outputId": "7d9b7be6-2875-4ee6-cb22-1fac4b335c05"
      },
      "source": [
        "# Call the function to extract the data. pass the topic and filename you want the data to be stored in.\n",
        "Topic=[\"Computer\"]\n",
        "get_tweets(Topic , Count=100)"
      ],
      "execution_count": null,
      "outputs": [
        {
          "output_type": "stream",
          "name": "stdout",
          "text": [
            ""
          ]
        }
      ]
    },
    {
      "cell_type": "code",
      "metadata": {
        "colab": {
          "base_uri": "https://localhost:8080/",
          "height": 299
        },
        "id": "0LEmrSp8Sl9h",
        "outputId": "01e0a3a8-e462-4850-b42e-d11cae3a40bf"
      },
      "source": [
        "df.head(8)"
      ],
      "execution_count": null,
      "outputs": [
        {
          "output_type": "execute_result",
          "data": {
            "text/html": [
              "<div>\n",
              "<style scoped>\n",
              "    .dataframe tbody tr th:only-of-type {\n",
              "        vertical-align: middle;\n",
              "    }\n",
              "\n",
              "    .dataframe tbody tr th {\n",
              "        vertical-align: top;\n",
              "    }\n",
              "\n",
              "    .dataframe thead th {\n",
              "        text-align: right;\n",
              "    }\n",
              "</style>\n",
              "<table border=\"1\" class=\"dataframe\">\n",
              "  <thead>\n",
              "    <tr style=\"text-align: right;\">\n",
              "      <th></th>\n",
              "      <th>Date</th>\n",
              "      <th>User</th>\n",
              "      <th>IsVerified</th>\n",
              "      <th>Tweet</th>\n",
              "      <th>Likes</th>\n",
              "      <th>RT</th>\n",
              "      <th>User_location</th>\n",
              "    </tr>\n",
              "  </thead>\n",
              "  <tbody>\n",
              "    <tr>\n",
              "      <th>0</th>\n",
              "      <td>2021-11-02 20:20:37</td>\n",
              "      <td>Lengthy Lass</td>\n",
              "      <td>False</td>\n",
              "      <td>@chloe_ruppel Wut ❓ paperz 📝 I invented the co...</td>\n",
              "      <td>0</td>\n",
              "      <td>0</td>\n",
              "      <td>Milwaukee, WI</td>\n",
              "    </tr>\n",
              "    <tr>\n",
              "      <th>1</th>\n",
              "      <td>2021-11-02 20:20:34</td>\n",
              "      <td>Given Edward</td>\n",
              "      <td>True</td>\n",
              "      <td>@rugilandavyi My computer is 128 GB with 120 G...</td>\n",
              "      <td>0</td>\n",
              "      <td>0</td>\n",
              "      <td>Africa</td>\n",
              "    </tr>\n",
              "    <tr>\n",
              "      <th>2</th>\n",
              "      <td>2021-11-02 20:20:28</td>\n",
              "      <td>Neil’s Darts</td>\n",
              "      <td>False</td>\n",
              "      <td>Quick first to 5 and got my ass handed to me, ...</td>\n",
              "      <td>0</td>\n",
              "      <td>0</td>\n",
              "      <td>Scotland, United Kingdom</td>\n",
              "    </tr>\n",
              "    <tr>\n",
              "      <th>3</th>\n",
              "      <td>2021-11-02 20:20:27</td>\n",
              "      <td>Uncle Duke</td>\n",
              "      <td>False</td>\n",
              "      <td>Iconic artists, iconic music. Listen to The Ma...</td>\n",
              "      <td>0</td>\n",
              "      <td>0</td>\n",
              "      <td></td>\n",
              "    </tr>\n",
              "    <tr>\n",
              "      <th>4</th>\n",
              "      <td>2021-11-02 20:20:26</td>\n",
              "      <td>wilkins coffee for all</td>\n",
              "      <td>False</td>\n",
              "      <td>@biggestjoel Look at this. Send me money to te...</td>\n",
              "      <td>0</td>\n",
              "      <td>0</td>\n",
              "      <td>marginal</td>\n",
              "    </tr>\n",
              "    <tr>\n",
              "      <th>5</th>\n",
              "      <td>2021-11-02 20:20:26</td>\n",
              "      <td>Filling Space</td>\n",
              "      <td>False</td>\n",
              "      <td>\"A major thrust is enabling technological tele...</td>\n",
              "      <td>0</td>\n",
              "      <td>0</td>\n",
              "      <td>Earth</td>\n",
              "    </tr>\n",
              "    <tr>\n",
              "      <th>6</th>\n",
              "      <td>2021-11-02 20:20:25</td>\n",
              "      <td>zeina🤝🇵🇸</td>\n",
              "      <td>False</td>\n",
              "      <td>@LHLL0V3R @91KILLYOURMIND guc mafehash cs love...</td>\n",
              "      <td>0</td>\n",
              "      <td>0</td>\n",
              "      <td></td>\n",
              "    </tr>\n",
              "    <tr>\n",
              "      <th>7</th>\n",
              "      <td>2021-11-02 20:20:21</td>\n",
              "      <td>Alex/Lyra misses wilbur</td>\n",
              "      <td>False</td>\n",
              "      <td>@ayooitslizz ON COMPUTER</td>\n",
              "      <td>0</td>\n",
              "      <td>0</td>\n",
              "      <td>any + neos</td>\n",
              "    </tr>\n",
              "  </tbody>\n",
              "</table>\n",
              "</div>"
            ],
            "text/plain": [
              "                  Date                     User  ... RT             User_location\n",
              "0  2021-11-02 20:20:37             Lengthy Lass  ...  0             Milwaukee, WI\n",
              "1  2021-11-02 20:20:34             Given Edward  ...  0                    Africa\n",
              "2  2021-11-02 20:20:28             Neil’s Darts  ...  0  Scotland, United Kingdom\n",
              "3  2021-11-02 20:20:27               Uncle Duke  ...  0                          \n",
              "4  2021-11-02 20:20:26   wilkins coffee for all  ...  0                  marginal\n",
              "5  2021-11-02 20:20:26            Filling Space  ...  0                     Earth\n",
              "6  2021-11-02 20:20:25                 zeina🤝🇵🇸  ...  0                          \n",
              "7  2021-11-02 20:20:21  Alex/Lyra misses wilbur  ...  0                any + neos\n",
              "\n",
              "[8 rows x 7 columns]"
            ]
          },
          "metadata": {},
          "execution_count": 28
        }
      ]
    },
    {
      "cell_type": "code",
      "metadata": {
        "id": "j-JKUYS1S4jv"
      },
      "source": [
        "# Function to Clean the Tweet.\n",
        "\n",
        "import re\n",
        "def clean_tweet(tweet):\n",
        "    return ' '.join(re.sub('(@[A-Za-z0-9]+)|([^0-9A-Za-z \\t])|(\\w+:\\/\\/\\S+)|([RT])', ' ', str(tweet).lower()).split())"
      ],
      "execution_count": null,
      "outputs": []
    },
    {
      "cell_type": "code",
      "metadata": {
        "id": "f6THD2e6S6rb"
      },
      "source": [
        "# Funciton to analyze Sentiment\n",
        "\n",
        "from textblob import TextBlob\n",
        "def analyze_sentiment(tweet):\n",
        "    analysis = TextBlob(tweet)\n",
        "    if analysis.sentiment.polarity > 0:\n",
        "        return 'Positive'\n",
        "    elif analysis.sentiment.polarity == 0:\n",
        "        return 'Neutral'\n",
        "    else:\n",
        "        return 'Negative'"
      ],
      "execution_count": null,
      "outputs": []
    },
    {
      "cell_type": "code",
      "metadata": {
        "colab": {
          "base_uri": "https://localhost:8080/",
          "height": 205
        },
        "id": "NQ_IQbCTThJ7",
        "outputId": "06a341b8-5596-4d4f-8603-8bdd09072e65"
      },
      "source": [
        "df['clean_tweet'] = df['Tweet'].apply(lambda x : clean_tweet(x))\n",
        "df.head(5)"
      ],
      "execution_count": null,
      "outputs": [
        {
          "output_type": "execute_result",
          "data": {
            "text/html": [
              "<div>\n",
              "<style scoped>\n",
              "    .dataframe tbody tr th:only-of-type {\n",
              "        vertical-align: middle;\n",
              "    }\n",
              "\n",
              "    .dataframe tbody tr th {\n",
              "        vertical-align: top;\n",
              "    }\n",
              "\n",
              "    .dataframe thead th {\n",
              "        text-align: right;\n",
              "    }\n",
              "</style>\n",
              "<table border=\"1\" class=\"dataframe\">\n",
              "  <thead>\n",
              "    <tr style=\"text-align: right;\">\n",
              "      <th></th>\n",
              "      <th>Date</th>\n",
              "      <th>User</th>\n",
              "      <th>IsVerified</th>\n",
              "      <th>Tweet</th>\n",
              "      <th>Likes</th>\n",
              "      <th>RT</th>\n",
              "      <th>User_location</th>\n",
              "      <th>clean_tweet</th>\n",
              "    </tr>\n",
              "  </thead>\n",
              "  <tbody>\n",
              "    <tr>\n",
              "      <th>0</th>\n",
              "      <td>2021-11-02 20:20:37</td>\n",
              "      <td>Lengthy Lass</td>\n",
              "      <td>False</td>\n",
              "      <td>@chloe_ruppel Wut ❓ paperz 📝 I invented the co...</td>\n",
              "      <td>0</td>\n",
              "      <td>0</td>\n",
              "      <td>Milwaukee, WI</td>\n",
              "      <td>ruppel wut paperz i invented the computer at t...</td>\n",
              "    </tr>\n",
              "    <tr>\n",
              "      <th>1</th>\n",
              "      <td>2021-11-02 20:20:34</td>\n",
              "      <td>Given Edward</td>\n",
              "      <td>True</td>\n",
              "      <td>@rugilandavyi My computer is 128 GB with 120 G...</td>\n",
              "      <td>0</td>\n",
              "      <td>0</td>\n",
              "      <td>Africa</td>\n",
              "      <td>my computer is 128 gb with 120 gb alredy full ...</td>\n",
              "    </tr>\n",
              "    <tr>\n",
              "      <th>2</th>\n",
              "      <td>2021-11-02 20:20:28</td>\n",
              "      <td>Neil’s Darts</td>\n",
              "      <td>False</td>\n",
              "      <td>Quick first to 5 and got my ass handed to me, ...</td>\n",
              "      <td>0</td>\n",
              "      <td>0</td>\n",
              "      <td>Scotland, United Kingdom</td>\n",
              "      <td>quick first to 5 and got my ass handed to me c...</td>\n",
              "    </tr>\n",
              "    <tr>\n",
              "      <th>3</th>\n",
              "      <td>2021-11-02 20:20:27</td>\n",
              "      <td>Uncle Duke</td>\n",
              "      <td>False</td>\n",
              "      <td>Iconic artists, iconic music. Listen to The Ma...</td>\n",
              "      <td>0</td>\n",
              "      <td>0</td>\n",
              "      <td></td>\n",
              "      <td>iconic artists iconic music listen to the mad ...</td>\n",
              "    </tr>\n",
              "    <tr>\n",
              "      <th>4</th>\n",
              "      <td>2021-11-02 20:20:26</td>\n",
              "      <td>wilkins coffee for all</td>\n",
              "      <td>False</td>\n",
              "      <td>@biggestjoel Look at this. Send me money to te...</td>\n",
              "      <td>0</td>\n",
              "      <td>0</td>\n",
              "      <td>marginal</td>\n",
              "      <td>look at this send me money to tell you i left ...</td>\n",
              "    </tr>\n",
              "  </tbody>\n",
              "</table>\n",
              "</div>"
            ],
            "text/plain": [
              "                  Date  ...                                        clean_tweet\n",
              "0  2021-11-02 20:20:37  ...  ruppel wut paperz i invented the computer at t...\n",
              "1  2021-11-02 20:20:34  ...  my computer is 128 gb with 120 gb alredy full ...\n",
              "2  2021-11-02 20:20:28  ...  quick first to 5 and got my ass handed to me c...\n",
              "3  2021-11-02 20:20:27  ...  iconic artists iconic music listen to the mad ...\n",
              "4  2021-11-02 20:20:26  ...  look at this send me money to tell you i left ...\n",
              "\n",
              "[5 rows x 8 columns]"
            ]
          },
          "metadata": {},
          "execution_count": 31
        }
      ]
    },
    {
      "cell_type": "code",
      "metadata": {
        "colab": {
          "base_uri": "https://localhost:8080/",
          "height": 205
        },
        "id": "ToBtpBlrTxQ1",
        "outputId": "d81a13a5-58ae-44b6-8653-af8c65f223ad"
      },
      "source": [
        "\n",
        "df[\"Sentiment\"] = df[\"Tweet\"].apply(lambda x : analyze_sentiment(x))\n",
        "df.head(5)"
      ],
      "execution_count": null,
      "outputs": [
        {
          "output_type": "execute_result",
          "data": {
            "text/html": [
              "<div>\n",
              "<style scoped>\n",
              "    .dataframe tbody tr th:only-of-type {\n",
              "        vertical-align: middle;\n",
              "    }\n",
              "\n",
              "    .dataframe tbody tr th {\n",
              "        vertical-align: top;\n",
              "    }\n",
              "\n",
              "    .dataframe thead th {\n",
              "        text-align: right;\n",
              "    }\n",
              "</style>\n",
              "<table border=\"1\" class=\"dataframe\">\n",
              "  <thead>\n",
              "    <tr style=\"text-align: right;\">\n",
              "      <th></th>\n",
              "      <th>Date</th>\n",
              "      <th>User</th>\n",
              "      <th>IsVerified</th>\n",
              "      <th>Tweet</th>\n",
              "      <th>Likes</th>\n",
              "      <th>RT</th>\n",
              "      <th>User_location</th>\n",
              "      <th>clean_tweet</th>\n",
              "      <th>Sentiment</th>\n",
              "    </tr>\n",
              "  </thead>\n",
              "  <tbody>\n",
              "    <tr>\n",
              "      <th>0</th>\n",
              "      <td>2021-11-02 20:20:37</td>\n",
              "      <td>Lengthy Lass</td>\n",
              "      <td>False</td>\n",
              "      <td>@chloe_ruppel Wut ❓ paperz 📝 I invented the co...</td>\n",
              "      <td>0</td>\n",
              "      <td>0</td>\n",
              "      <td>Milwaukee, WI</td>\n",
              "      <td>ruppel wut paperz i invented the computer at t...</td>\n",
              "      <td>Positive</td>\n",
              "    </tr>\n",
              "    <tr>\n",
              "      <th>1</th>\n",
              "      <td>2021-11-02 20:20:34</td>\n",
              "      <td>Given Edward</td>\n",
              "      <td>True</td>\n",
              "      <td>@rugilandavyi My computer is 128 GB with 120 G...</td>\n",
              "      <td>0</td>\n",
              "      <td>0</td>\n",
              "      <td>Africa</td>\n",
              "      <td>my computer is 128 gb with 120 gb alredy full ...</td>\n",
              "      <td>Positive</td>\n",
              "    </tr>\n",
              "    <tr>\n",
              "      <th>2</th>\n",
              "      <td>2021-11-02 20:20:28</td>\n",
              "      <td>Neil’s Darts</td>\n",
              "      <td>False</td>\n",
              "      <td>Quick first to 5 and got my ass handed to me, ...</td>\n",
              "      <td>0</td>\n",
              "      <td>0</td>\n",
              "      <td>Scotland, United Kingdom</td>\n",
              "      <td>quick first to 5 and got my ass handed to me c...</td>\n",
              "      <td>Positive</td>\n",
              "    </tr>\n",
              "    <tr>\n",
              "      <th>3</th>\n",
              "      <td>2021-11-02 20:20:27</td>\n",
              "      <td>Uncle Duke</td>\n",
              "      <td>False</td>\n",
              "      <td>Iconic artists, iconic music. Listen to The Ma...</td>\n",
              "      <td>0</td>\n",
              "      <td>0</td>\n",
              "      <td></td>\n",
              "      <td>iconic artists iconic music listen to the mad ...</td>\n",
              "      <td>Positive</td>\n",
              "    </tr>\n",
              "    <tr>\n",
              "      <th>4</th>\n",
              "      <td>2021-11-02 20:20:26</td>\n",
              "      <td>wilkins coffee for all</td>\n",
              "      <td>False</td>\n",
              "      <td>@biggestjoel Look at this. Send me money to te...</td>\n",
              "      <td>0</td>\n",
              "      <td>0</td>\n",
              "      <td>marginal</td>\n",
              "      <td>look at this send me money to tell you i left ...</td>\n",
              "      <td>Neutral</td>\n",
              "    </tr>\n",
              "  </tbody>\n",
              "</table>\n",
              "</div>"
            ],
            "text/plain": [
              "                  Date  ... Sentiment\n",
              "0  2021-11-02 20:20:37  ...  Positive\n",
              "1  2021-11-02 20:20:34  ...  Positive\n",
              "2  2021-11-02 20:20:28  ...  Positive\n",
              "3  2021-11-02 20:20:27  ...  Positive\n",
              "4  2021-11-02 20:20:26  ...   Neutral\n",
              "\n",
              "[5 rows x 9 columns]"
            ]
          },
          "metadata": {},
          "execution_count": 32
        }
      ]
    },
    {
      "cell_type": "code",
      "metadata": {
        "colab": {
          "base_uri": "https://localhost:8080/"
        },
        "id": "fQYIbAQsUPX-",
        "outputId": "b2621e65-4ae5-4ea9-91b9-ad0756ae486c"
      },
      "source": [
        "# Overall Summary\n",
        "\n",
        "print(\"Total Tweets Extracted for Topic : {} are : {}\".format(Topic,len(df.Tweet)))\n",
        "print(\"Total Positive Tweets are : {}\".format(len(df[df[\"Sentiment\"]==\"Positive\"])))\n",
        "print(\"Total Negative Tweets are : {}\".format(len(df[df[\"Sentiment\"]==\"Negative\"])))\n",
        "print(\"Total Neutral Tweets are : {}\".format(len(df[df[\"Sentiment\"]==\"Neutral\"])))"
      ],
      "execution_count": null,
      "outputs": [
        {
          "output_type": "stream",
          "name": "stdout",
          "text": [
            "Total Tweets Extracted for Topic : ['Computer'] are : 101\n",
            "Total Positive Tweets are : 46\n",
            "Total Negative Tweets are : 20\n",
            "Total Neutral Tweets are : 35\n"
          ]
        }
      ]
    },
    {
      "cell_type": "code",
      "metadata": {
        "colab": {
          "base_uri": "https://localhost:8080/",
          "height": 369
        },
        "id": "-44AjLPBUUR7",
        "outputId": "1650a029-bd35-483c-8464-0ebd29ba0090"
      },
      "source": [
        "sns.countplot(df[\"Sentiment\"])\n",
        "plt.title(\"Summary of Counts for Total tweets\")"
      ],
      "execution_count": null,
      "outputs": [
        {
          "output_type": "stream",
          "name": "stderr",
          "text": [
            "/usr/local/lib/python3.7/dist-packages/seaborn/_decorators.py:43: FutureWarning: Pass the following variable as a keyword arg: x. From version 0.12, the only valid positional argument will be `data`, and passing other arguments without an explicit keyword will result in an error or misinterpretation.\n",
            "  FutureWarning\n"
          ]
        },
        {
          "output_type": "execute_result",
          "data": {
            "text/plain": [
              "Text(0.5, 1.0, 'Summary of Counts for Total tweets')"
            ]
          },
          "metadata": {},
          "execution_count": 34
        },
        {
          "output_type": "display_data",
          "data": {
            "image/png": "[encoded data removed]",
            "text/plain": [
              "<Figure size 432x288 with 1 Axes>"
            ]
          },
          "metadata": {
            "needs_background": "light"
          }
        }
      ]
    },
    {
      "cell_type": "code",
      "metadata": {
        "colab": {
          "base_uri": "https://localhost:8080/",
          "height": 248
        },
        "id": "3qU4MzxoUhu6",
        "outputId": "78c2e305-5b28-411a-d212-06cb8a1b5358"
      },
      "source": [
        "#Pie chart\n",
        "a=len(df[df[\"Sentiment\"]==\"Positive\"])\n",
        "b=len(df[df[\"Sentiment\"]==\"Negative\"])\n",
        "c=len(df[df[\"Sentiment\"]==\"Neutral\"])\n",
        "d=np.array([a,b,c])\n",
        "explode = (0.1, 0.0, 0.1)\n",
        "plt.pie(d,shadow=True,explode=explode,labels=[\"Positive\",\"Negative\",\"Neutral\"],autopct='%1.2f%%');"
      ],
      "execution_count": null,
      "outputs": [
        {
          "output_type": "display_data",
          "data": {
            "image/png": "[encoded data removed]",
            "text/plain": [
              "<Figure size 432x288 with 1 Axes>"
            ]
          },
          "metadata": {}
        }
      ]
    }
  ]
}